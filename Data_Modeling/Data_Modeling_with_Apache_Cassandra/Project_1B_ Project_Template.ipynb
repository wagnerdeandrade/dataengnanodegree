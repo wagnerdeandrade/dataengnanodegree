{
 "cells": [
  {
   "cell_type": "markdown",
   "metadata": {
    "editable": true
   },
   "source": [
    "# <font color=blue> Part I. ETL Pipeline for Pre-Processing the Files</font>"
   ]
  },
  {
   "cell_type": "markdown",
   "metadata": {
    "editable": true
   },
   "source": [
    "#### Import Python packages "
   ]
  },
  {
   "cell_type": "code",
   "execution_count": 1,
   "metadata": {
    "editable": true
   },
   "outputs": [],
   "source": [
    "# Import Python packages \n",
    "import pandas as pd\n",
    "import cassandra\n",
    "import re\n",
    "import os\n",
    "import glob\n",
    "import numpy as np\n",
    "import json\n",
    "import csv"
   ]
  },
  {
   "cell_type": "markdown",
   "metadata": {
    "editable": true
   },
   "source": [
    "#### Creating list of filepaths to process original event csv data files"
   ]
  },
  {
   "cell_type": "code",
   "execution_count": 2,
   "metadata": {
    "editable": true
   },
   "outputs": [
    {
     "name": "stdout",
     "output_type": "stream",
     "text": [
      "/home/workspace\n"
     ]
    }
   ],
   "source": [
    "# checking your current working directory\n",
    "print(os.getcwd())\n",
    "\n",
    "# Get your current folder and subfolder event data\n",
    "filepath = os.getcwd() + '/event_data'\n",
    "\n",
    "# Create a for loop to create a list of files and collect each filepath\n",
    "for root, dirs, files in os.walk(filepath):\n",
    "    \n",
    "# join the file path and roots with the subdirectories using glob\n",
    "    file_path_list = glob.glob(os.path.join(root,'*'))\n",
    "    #print(file_path_list)"
   ]
  },
  {
   "cell_type": "markdown",
   "metadata": {
    "editable": true
   },
   "source": [
    "#### Processing the files to create the data file csv that will be used for Apache Casssandra tables"
   ]
  },
  {
   "cell_type": "code",
   "execution_count": 3,
   "metadata": {
    "editable": true
   },
   "outputs": [],
   "source": [
    "# initiating an empty list of rows that will be generated from each file\n",
    "full_data_rows_list = [] \n",
    "    \n",
    "# for every filepath in the file path list \n",
    "for f in file_path_list:\n",
    "\n",
    "    # reading csv file \n",
    "    with open(f, 'r', encoding = 'utf8', newline='') as csvfile: \n",
    "        # creating a csv reader object \n",
    "        csvreader = csv.reader(csvfile) \n",
    "        next(csvreader)\n",
    "        \n",
    "        # extracting each data row one by one and append it        \n",
    "        for line in csvreader:\n",
    "            #print(line)\n",
    "            full_data_rows_list.append(line) \n",
    "            \n",
    "# uncomment the code below if you would like to get total number of rows \n",
    "#print(len(full_data_rows_list))\n",
    "# uncomment the code below if you would like to check to see what the list of event data rows will look like\n",
    "#print(full_data_rows_list)\n",
    "\n",
    "# creating a smaller event data csv file called event_datafile_full csv that will be used to insert data into the \\\n",
    "# Apache Cassandra tables\n",
    "csv.register_dialect('myDialect', quoting=csv.QUOTE_ALL, skipinitialspace=True)\n",
    "\n",
    "with open('event_datafile_new.csv', 'w', encoding = 'utf8', newline='') as f:\n",
    "    writer = csv.writer(f, dialect='myDialect')\n",
    "    writer.writerow(['artist','firstName','gender','itemInSession','lastName','length',\\\n",
    "                'level','location','sessionId','song','userId'])\n",
    "    for row in full_data_rows_list:\n",
    "        if (row[0] == ''):\n",
    "            continue\n",
    "        writer.writerow((row[0], row[2], row[3], row[4], row[5], row[6], row[7], row[8], row[12], row[13], row[16]))\n"
   ]
  },
  {
   "cell_type": "code",
   "execution_count": 4,
   "metadata": {
    "editable": true
   },
   "outputs": [
    {
     "name": "stdout",
     "output_type": "stream",
     "text": [
      "6821\n"
     ]
    }
   ],
   "source": [
    "# check the number of rows in your csv file\n",
    "with open('event_datafile_new.csv', 'r', encoding = 'utf8') as f:\n",
    "    print(sum(1 for line in f))"
   ]
  },
  {
   "cell_type": "markdown",
   "metadata": {
    "editable": true
   },
   "source": [
    "# <font color=blue> Part II. Populate NoSQL database Apache Cassandra with the information gathered in Part I and validate the database model answering three queries given by the analytics team from Sparkify.  </font>\n",
    "\n",
    "## The <font color=red>event_datafile_new.csv</font> contains the following columns: \n",
    "- artist \n",
    "- firstName of user\n",
    "- gender of user\n",
    "- item number in session\n",
    "- last name of user\n",
    "- length of the song\n",
    "- level (paid or free song)\n",
    "- location of the user\n",
    "- sessionId\n",
    "- song title\n",
    "- userId\n",
    "\n",
    "The image below is a screenshot of what the denormalized data should appear like in the <font color=red>**event_datafile_new.csv**</font> after the code above is run:<br>\n",
    "\n",
    "<img src=\"images/image_event_datafile_new.jpg\">"
   ]
  },
  {
   "cell_type": "markdown",
   "metadata": {
    "editable": true
   },
   "source": [
    "#### Creating an Apache Cassandra Cluster"
   ]
  },
  {
   "cell_type": "code",
   "execution_count": 5,
   "metadata": {
    "editable": true
   },
   "outputs": [],
   "source": [
    "# Make a connection to a Cassandra instance your local machine (127.0.0.1)\n",
    "from cassandra.cluster import Cluster\n",
    "cluster = Cluster()\n",
    "\n",
    "# To establish connection and begin executing queries, need a session\n",
    "session = cluster.connect()"
   ]
  },
  {
   "cell_type": "markdown",
   "metadata": {
    "editable": true
   },
   "source": [
    "#### Create Apache Cassandra Keyspace to handle Sparkify song listen events"
   ]
  },
  {
   "cell_type": "code",
   "execution_count": 6,
   "metadata": {
    "editable": true
   },
   "outputs": [],
   "source": [
    "# Create a Keyspace \n",
    "try:\n",
    "    session.execute(\"\"\"\n",
    "        CREATE KEYSPACE IF NOT EXISTS sparkify_song_listen_events\n",
    "        WITH REPLICATION = \n",
    "        { 'class' : 'SimpleStrategy', 'replication_factor' : 1 }\"\"\"\n",
    "    )\n",
    "except Exception as e:\n",
    "    print(e)"
   ]
  },
  {
   "cell_type": "markdown",
   "metadata": {
    "editable": true
   },
   "source": [
    "#### Set the Keyspace used in this Notebook to be the one created above"
   ]
  },
  {
   "cell_type": "code",
   "execution_count": 7,
   "metadata": {
    "editable": true
   },
   "outputs": [],
   "source": [
    "# Set KEYSPACE to work on as the above created keyspace \n",
    "try:\n",
    "    session.set_keyspace('sparkify_song_listen_events')\n",
    "except Exception as e:\n",
    "    print(e)"
   ]
  },
  {
   "cell_type": "markdown",
   "metadata": {
    "editable": true
   },
   "source": [
    "#### Set Apache Cassandra row factory as that every SELECT statement returns inside a Pandas DataFrame"
   ]
  },
  {
   "cell_type": "code",
   "execution_count": 8,
   "metadata": {
    "editable": true
   },
   "outputs": [],
   "source": [
    "def pandas_factory(colnames, rows):\n",
    "    return pd.DataFrame(rows, columns=colnames)\n",
    "\n",
    "try:\n",
    "    session.row_factory = pandas_factory\n",
    "except Exception as e:\n",
    "    print(e)\n",
    "\n",
    "#PS: special thanks to Giovanni Perna (https://gist.github.com/gioper86/b08b72d77c4e0aefa0137fc3655488dd)"
   ]
  },
  {
   "cell_type": "markdown",
   "metadata": {
    "editable": true
   },
   "source": [
    "## Create queries to ask the following three questions of the data\n",
    "\n",
    "### 1. Give me the artist, song title and song's length in the music app history that was heard during  sessionId = 338, and itemInSession  = 4\n",
    "### 2. Give me only the following: name of artist, song (sorted by itemInSession) and user (first and last name) for userid = 10, sessionid = 182\n",
    "### 3. Give me every user name (first and last) in my music app history who listened to the song 'All Hands Against His Own'"
   ]
  },
  {
   "cell_type": "markdown",
   "metadata": {
    "editable": true
   },
   "source": [
    "***"
   ]
  },
  {
   "cell_type": "markdown",
   "metadata": {
    "editable": true
   },
   "source": [
    "### <font color=green>Answering QUERY 1 :  Give me the artist, song title and song's length in the music app history that was heard during sessionId = 338, and itemInSession = 4. </font><br>\n",
    "A column family with its primary key made of **session_id** (as partition key) and **item_in_session** (clustering column) would categorize all the data based on the where filter of query 1 and therefore must meet the expectation.<br>\n",
    "Trying to translate the query 1 sentence into CQL we have:\n",
    "```SELECT artist, song, length FROM session_library WHERE session_id = 338 AND item_in_session = 4```\n",
    "<br>\n",
    "Below table describes what partition we need to answer query 1\n",
    "\n",
    "<img src=\"images/query1.jpg\">"
   ]
  },
  {
   "cell_type": "code",
   "execution_count": 9,
   "metadata": {
    "editable": true
   },
   "outputs": [],
   "source": [
    "create_query = \"CREATE TABLE IF NOT EXISTS \"\n",
    "query = create_query + \"session_library (\\\n",
    "                              session_id int, \\\n",
    "                              item_in_session int, \\\n",
    "                              artist text, \\\n",
    "                              song text, \\\n",
    "                              length decimal, \\\n",
    "                              PRIMARY KEY (session_id, item_in_session)\\\n",
    "                        )\"\n",
    "try:\n",
    "    session.execute(query)\n",
    "except Exception as e:\n",
    "    print(e)"
   ]
  },
  {
   "cell_type": "code",
   "execution_count": 10,
   "metadata": {
    "editable": true
   },
   "outputs": [],
   "source": [
    "# Populating session_library table given the information provided on below file \n",
    "file = 'event_datafile_new.csv'\n",
    "\n",
    "with open(file, encoding = 'utf8') as f:\n",
    "    csvreader = csv.reader(f)\n",
    "    next(csvreader) # skip header\n",
    "    for line in csvreader:\n",
    "        query = \"INSERT INTO session_library (session_id, item_in_session, artist, song, length)\"\n",
    "        query = query + \" VALUES (%s, %s, %s, %s, %s)\"\n",
    "        ## Assign column element for each column in the INSERT statement based on event_datafile_new.csv organization.\n",
    "        ## For e.g., to INSERT artist_name and user first_name, you would change the code below to `line[0], line[1]`\n",
    "        session.execute(query, (int(line[8]), int(line[3]), line[0], line[9], float(line[5])))"
   ]
  },
  {
   "cell_type": "markdown",
   "metadata": {
    "editable": true
   },
   "source": [
    "#### <font color=red>Executing QUERY 1 to validate the answer</font>"
   ]
  },
  {
   "cell_type": "code",
   "execution_count": 22,
   "metadata": {
    "editable": true,
    "scrolled": true
   },
   "outputs": [
    {
     "data": {
      "text/html": [
       "<style  type=\"text/css\" >\n",
       "</style>  \n",
       "<table id=\"T_70266dac_c5f7_11ea_927e_0242ac120002\" > \n",
       "<thead>    <tr> \n",
       "        <th class=\"col_heading level0 col0\" >artist</th> \n",
       "        <th class=\"col_heading level0 col1\" >song</th> \n",
       "        <th class=\"col_heading level0 col2\" >length</th> \n",
       "    </tr></thead> \n",
       "<tbody>    <tr> \n",
       "        <td id=\"T_70266dac_c5f7_11ea_927e_0242ac120002row0_col0\" class=\"data row0 col0\" >Faithless</td> \n",
       "        <td id=\"T_70266dac_c5f7_11ea_927e_0242ac120002row0_col1\" class=\"data row0 col1\" >Music Matters (Mark Knight Dub)</td> \n",
       "        <td id=\"T_70266dac_c5f7_11ea_927e_0242ac120002row0_col2\" class=\"data row0 col2\" >495.3073</td> \n",
       "    </tr></tbody> \n",
       "</table> "
      ],
      "text/plain": [
       "<pandas.io.formats.style.Styler at 0x7f86bedd7710>"
      ]
     },
     "execution_count": 22,
     "metadata": {},
     "output_type": "execute_result"
    }
   ],
   "source": [
    "## Add in the SELECT statement to verify the data was entered into the table\n",
    "query = \"SELECT artist, song, length FROM session_library WHERE session_id=338 AND item_in_session=4\"\n",
    "try:\n",
    "    result_query1 = session.execute(query)\n",
    "except Exception as e:\n",
    "    print(e)\n",
    "\n",
    "# Use a Pandas DataFrame to print the output in a tabular format\n",
    "df = result_query1._current_rows\n",
    "df.style.hide_index()"
   ]
  },
  {
   "cell_type": "markdown",
   "metadata": {
    "editable": true
   },
   "source": [
    "***"
   ]
  },
  {
   "cell_type": "markdown",
   "metadata": {
    "editable": true
   },
   "source": [
    "### <font color=green>Answering QUERY 2 : Give me only the following: name of artist, song (sorted by itemInSession) and user (first and last name) for userid = 10, sessionid = 182 </font><br>\n",
    "A column family with its primary key made of the combination **user_id** and **session_id** as the partition key and **item_in_session** as a clustering column, will have uniqueness based on query 2 where clause while the partition data will be ordered by **item_in_session** <br>\n",
    "Trying to translate the query 2 sentence into CQL we have:\n",
    "```SELECT artist, song, user_first_name, user_last_name FROM user_library WHERE user_id = 10 AND session_id = 182```\n",
    "Below table describes what partition we need to answer query 2<br>\n",
    "\n",
    "<img src=\"images/query2.jpg\">"
   ]
  },
  {
   "cell_type": "code",
   "execution_count": 12,
   "metadata": {
    "editable": true
   },
   "outputs": [],
   "source": [
    "create_query = \"CREATE TABLE IF NOT EXISTS \"\n",
    "query = create_query + \"user_library (\\\n",
    "                              user_id int, \\\n",
    "                              session_id int, \\\n",
    "                              item_in_session int, \\\n",
    "                              artist text, \\\n",
    "                              song text, \\\n",
    "                              user_first_name text, \\\n",
    "                              user_last_name text, \\\n",
    "                              PRIMARY KEY ((user_id, session_id), item_in_session) \\\n",
    "                        )\"\n",
    "try:\n",
    "    session.execute(query)\n",
    "except Exception as e:\n",
    "    print(e)"
   ]
  },
  {
   "cell_type": "code",
   "execution_count": 13,
   "metadata": {
    "editable": true
   },
   "outputs": [],
   "source": [
    "# Populating user_library table given the information provided on below file \n",
    "file = 'event_datafile_new.csv'\n",
    "\n",
    "with open(file, encoding = 'utf8') as f:\n",
    "    csvreader = csv.reader(f)\n",
    "    next(csvreader) # skip header\n",
    "    for line in csvreader:\n",
    "        query = \"INSERT INTO user_library (user_id, session_id, item_in_session, artist, song, user_first_name, user_last_name)\"\n",
    "        query = query + \" VALUES (%s, %s, %s, %s, %s, %s, %s)\"\n",
    "        ## Assign column element for each column in the INSERT statement based on event_datafile_new.csv organization.\n",
    "        ## For e.g., to INSERT artist_name and user first_name, you would change the code below to `line[0], line[1]`\n",
    "        session.execute(query, (int(line[10]), int(line[8]), int(line[3]), line[0], line[9], line[1], line[4]))"
   ]
  },
  {
   "cell_type": "markdown",
   "metadata": {
    "editable": true
   },
   "source": [
    "#### <font color=red>Executing QUERY 2 to validate the answer</font>"
   ]
  },
  {
   "cell_type": "code",
   "execution_count": 21,
   "metadata": {
    "editable": true
   },
   "outputs": [
    {
     "data": {
      "text/html": [
       "<style  type=\"text/css\" >\n",
       "</style>  \n",
       "<table id=\"T_54e70cf4_c5f7_11ea_927e_0242ac120002\" > \n",
       "<thead>    <tr> \n",
       "        <th class=\"col_heading level0 col0\" >artist</th> \n",
       "        <th class=\"col_heading level0 col1\" >song</th> \n",
       "        <th class=\"col_heading level0 col2\" >user_name</th> \n",
       "    </tr></thead> \n",
       "<tbody>    <tr> \n",
       "        <td id=\"T_54e70cf4_c5f7_11ea_927e_0242ac120002row0_col0\" class=\"data row0 col0\" >Down To The Bone</td> \n",
       "        <td id=\"T_54e70cf4_c5f7_11ea_927e_0242ac120002row0_col1\" class=\"data row0 col1\" >Keep On Keepin' On</td> \n",
       "        <td id=\"T_54e70cf4_c5f7_11ea_927e_0242ac120002row0_col2\" class=\"data row0 col2\" >Sylvie Cruz</td> \n",
       "    </tr>    <tr> \n",
       "        <td id=\"T_54e70cf4_c5f7_11ea_927e_0242ac120002row1_col0\" class=\"data row1 col0\" >Three Drives</td> \n",
       "        <td id=\"T_54e70cf4_c5f7_11ea_927e_0242ac120002row1_col1\" class=\"data row1 col1\" >Greece 2000</td> \n",
       "        <td id=\"T_54e70cf4_c5f7_11ea_927e_0242ac120002row1_col2\" class=\"data row1 col2\" >Sylvie Cruz</td> \n",
       "    </tr>    <tr> \n",
       "        <td id=\"T_54e70cf4_c5f7_11ea_927e_0242ac120002row2_col0\" class=\"data row2 col0\" >Sebastien Tellier</td> \n",
       "        <td id=\"T_54e70cf4_c5f7_11ea_927e_0242ac120002row2_col1\" class=\"data row2 col1\" >Kilometer</td> \n",
       "        <td id=\"T_54e70cf4_c5f7_11ea_927e_0242ac120002row2_col2\" class=\"data row2 col2\" >Sylvie Cruz</td> \n",
       "    </tr>    <tr> \n",
       "        <td id=\"T_54e70cf4_c5f7_11ea_927e_0242ac120002row3_col0\" class=\"data row3 col0\" >Lonnie Gordon</td> \n",
       "        <td id=\"T_54e70cf4_c5f7_11ea_927e_0242ac120002row3_col1\" class=\"data row3 col1\" >Catch You Baby (Steve Pitron & Max Sanna Radio Edit)</td> \n",
       "        <td id=\"T_54e70cf4_c5f7_11ea_927e_0242ac120002row3_col2\" class=\"data row3 col2\" >Sylvie Cruz</td> \n",
       "    </tr></tbody> \n",
       "</table> "
      ],
      "text/plain": [
       "<pandas.io.formats.style.Styler at 0x7f868513ff28>"
      ]
     },
     "execution_count": 21,
     "metadata": {},
     "output_type": "execute_result"
    }
   ],
   "source": [
    "query = \"SELECT artist, song, user_first_name, user_last_name FROM user_library WHERE user_id = 10 AND session_id = 182\"\n",
    "try:\n",
    "    result_query2 = session.execute(query)\n",
    "except Exception as e:\n",
    "    print(e)\n",
    "\n",
    "# Use a Pandas DataFrame to print the output in a tabular format\n",
    "df = result_query2._current_rows\n",
    "df['user_name'] = df.user_first_name + \" \" + df.user_last_name\n",
    "df.drop(['user_first_name', 'user_last_name'], axis=1, inplace=True)\n",
    "df.style.hide_index()"
   ]
  },
  {
   "cell_type": "markdown",
   "metadata": {
    "editable": true
   },
   "source": [
    "***"
   ]
  },
  {
   "cell_type": "markdown",
   "metadata": {
    "editable": true
   },
   "source": [
    "### <font color=green>Answering query 3 : Give me every user name (first and last) in my music app history who listened to the song 'All Hands Against His Own'</font><br>\n",
    "The key to this query is to understand that we are interested in the **\"listened to\"** event to guarantee uniqueness, not on the music by itself. <br>\n",
    "The **listened to** event is made up of the combination of **session_id**, **item_in_session** and **song** and therefore we can make it the primary key of our partition.<br>\n",
    "But, as query 3 filter is based upon the song, the partition key, i.e. the first element in the primary key, must be the **song** otherwise Apache Cassandra wouldn't be able to filter **song** column without filtering its preceding column before. <br>\n",
    "Trying to translate the query 3 sentence into CQL we have:\n",
    "Give me every user name (first and last) in my music app history who listened to the song 'All Hands Against His Own'\n",
    "```SELECT user_first_name, user_last_name FROM listened_to_library WHERE song='All Hands Against His Own'```\n",
    "Below table describes what partition we need to answer query 3\n",
    "<br>\n",
    "\n",
    "<img src=\"images/query3.jpg\">\n",
    "                    "
   ]
  },
  {
   "cell_type": "code",
   "execution_count": 23,
   "metadata": {
    "editable": true
   },
   "outputs": [],
   "source": [
    "create_query = \"CREATE TABLE IF NOT EXISTS \"\n",
    "query = create_query + \"listened_to_library (\\\n",
    "                              session_id int, \\\n",
    "                              item_in_session int, \\\n",
    "                              song text, \\\n",
    "                              user_first_name text, \\\n",
    "                              user_last_name text, \\\n",
    "                              PRIMARY KEY (song, session_id, item_in_session) \\\n",
    "                        )\"\n",
    "try:\n",
    "    session.execute(query)\n",
    "except Exception as e:\n",
    "    print(e)"
   ]
  },
  {
   "cell_type": "code",
   "execution_count": 24,
   "metadata": {
    "editable": true
   },
   "outputs": [],
   "source": [
    "# Populating listened_to_library table given the information provided on below file \n",
    "file = 'event_datafile_new.csv'\n",
    "\n",
    "with open(file, encoding = 'utf8') as f:\n",
    "    csvreader = csv.reader(f)\n",
    "    next(csvreader) # skip header\n",
    "    for line in csvreader:\n",
    "        query = \"INSERT INTO listened_to_library (session_id, item_in_session, song, user_first_name, user_last_name)\"\n",
    "        query = query + \" VALUES (%s, %s, %s, %s, %s)\"\n",
    "        ## Assign column element for each column in the INSERT statement based on event_datafile_new.csv organization.\n",
    "        ## For e.g., to INSERT artist_name and user first_name, you would change the code below to `line[0], line[1]`\n",
    "        session.execute(query, (int(line[8]), int(line[3]), line[9], line[1], line[4]))"
   ]
  },
  {
   "cell_type": "markdown",
   "metadata": {
    "editable": true
   },
   "source": [
    "#### <font color=red>Executing QUERY 3 to validate the answer</font>"
   ]
  },
  {
   "cell_type": "code",
   "execution_count": null,
   "metadata": {
    "editable": true
   },
   "outputs": [],
   "source": [
    "query = \"SELECT user_first_name, user_last_name FROM listened_to_library WHERE song='All Hands Against His Own'\"\n",
    "try:\n",
    "    result_query2 = session.execute(query)\n",
    "except Exception as e:\n",
    "    print(e)\n",
    "\n",
    "# Use a Pandas DataFrame to print the output in a tabular format\n",
    "df = result_query2._current_rows\n",
    "df['user_name'] = df.user_first_name + \" \" + df.user_last_name\n",
    "df.drop(['user_first_name', 'user_last_name'], axis=1, inplace=True)\n",
    "df.style.hide_index()\n",
    "\n",
    "for row in result_query2:\n",
    "    print(\"\\033[1m User: \\033[0m\"+ row[0] + \" \" + row[1])"
   ]
  },
  {
   "cell_type": "markdown",
   "metadata": {
    "editable": true
   },
   "source": [
    "***"
   ]
  },
  {
   "cell_type": "markdown",
   "metadata": {
    "editable": true
   },
   "source": [
    "### Drop the tables before closing out the sessions"
   ]
  },
  {
   "cell_type": "code",
   "execution_count": null,
   "metadata": {
    "editable": true
   },
   "outputs": [],
   "source": [
    "## Drop the tables before closing out the sessions\n",
    "try:\n",
    "    session.execute(\"\"\"DROP TABLE IF EXISTS session_library\"\"\")\n",
    "except Exception as e:\n",
    "    print(e)\n",
    "try:\n",
    "    session.execute(\"\"\"DROP TABLE IF EXISTS user_library\"\"\")\n",
    "except Exception as e:\n",
    "    print(e)\n",
    "try:\n",
    "    session.execute(\"\"\"DROP TABLE IF EXISTS listened_to_library\"\"\")\n",
    "except Exception as e:\n",
    "    print(e)"
   ]
  },
  {
   "cell_type": "code",
   "execution_count": null,
   "metadata": {
    "editable": true
   },
   "outputs": [],
   "source": [
    "# Drop the KEYSPACE before closing out the sessions\n",
    "try:\n",
    "    session.execute(\"\"\"DROP KEYSPACE IF EXISTS sparkify_song_listen_events\"\"\")\n",
    "except Exception as e:\n",
    "    print(e)"
   ]
  },
  {
   "cell_type": "markdown",
   "metadata": {
    "editable": true
   },
   "source": [
    "### Close the session and cluster connection¶"
   ]
  },
  {
   "cell_type": "code",
   "execution_count": null,
   "metadata": {
    "editable": true
   },
   "outputs": [],
   "source": [
    "session.shutdown()\n",
    "cluster.shutdown()"
   ]
  },
  {
   "cell_type": "code",
   "execution_count": null,
   "metadata": {
    "editable": true
   },
   "outputs": [],
   "source": []
  }
 ],
 "metadata": {
  "kernelspec": {
   "display_name": "Python 3",
   "language": "python",
   "name": "python3"
  },
  "language_info": {
   "codemirror_mode": {
    "name": "ipython",
    "version": 3
   },
   "file_extension": ".py",
   "mimetype": "text/x-python",
   "name": "python",
   "nbconvert_exporter": "python",
   "pygments_lexer": "ipython3",
   "version": "3.6.3"
  }
 },
 "nbformat": 4,
 "nbformat_minor": 4
}
